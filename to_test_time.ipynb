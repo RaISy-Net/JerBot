{
 "cells": [
  {
   "cell_type": "code",
   "execution_count": 1,
   "metadata": {},
   "outputs": [
    {
     "name": "stdout",
     "output_type": "stream",
     "text": [
      "NEW EPISODE\n",
      "Episode finished after 43 timesteps\n",
      "NEW EPISODE\n",
      "NEW EPISODE\n",
      "NEW EPISODE\n",
      "Episode finished after 81 timesteps\n",
      "NEW EPISODE\n",
      "Episode finished after 67 timesteps\n",
      "NEW EPISODE\n",
      "Episode finished after 30 timesteps\n",
      "NEW EPISODE\n",
      "Episode finished after 85 timesteps\n",
      "NEW EPISODE\n",
      "Episode finished after 28 timesteps\n",
      "NEW EPISODE\n",
      "Episode finished after 77 timesteps\n",
      "NEW EPISODE\n",
      "Episode finished after 72 timesteps\n"
     ]
    }
   ],
   "source": [
    "import gym\n",
    "\n",
    "env = gym.make('gym_luckyBiped:luckyBiped-v0')\n",
    "\n",
    "for i_episode in range(10):\n",
    "    print('NEW EPISODE')\n",
    "    observation = env.reset()\n",
    "    for t in range(100):\n",
    "        action = env.action_space.sample()\n",
    "        observation, reward, done, info = env.step(action)\n",
    "        if done:\n",
    "            print(\"Episode finished after {} timesteps\".format(t+1))\n",
    "            break\n",
    "env.close()"
   ]
  },
  {
   "cell_type": "code",
   "execution_count": 2,
   "metadata": {},
   "outputs": [
    {
     "name": "stdout",
     "output_type": "stream",
     "text": [
      "CPU times: user 93 ms, sys: 6.63 ms, total: 99.6 ms\n",
      "Wall time: 90.5 ms\n"
     ]
    }
   ],
   "source": [
    "%%time\n",
    "for i in range(1000):\n",
    "    env.reset()"
   ]
  }
 ],
 "metadata": {
  "kernelspec": {
   "display_name": "Python 3",
   "language": "python",
   "name": "python3"
  },
  "language_info": {
   "codemirror_mode": {
    "name": "ipython",
    "version": 3
   },
   "file_extension": ".py",
   "mimetype": "text/x-python",
   "name": "python",
   "nbconvert_exporter": "python",
   "pygments_lexer": "ipython3",
   "version": "3.5.2"
  }
 },
 "nbformat": 4,
 "nbformat_minor": 2
}